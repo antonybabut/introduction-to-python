{
  "nbformat": 4,
  "nbformat_minor": 0,
  "metadata": {
    "colab": {
      "name": "list.ipynb",
      "provenance": []
    },
    "kernelspec": {
      "name": "python3",
      "display_name": "Python 3"
    },
    "language_info": {
      "name": "python"
    }
  },
  "cells": [
    {
      "cell_type": "code",
      "source": [
        "x=0\n",
        "while x<20:\n",
        "  print (\"antony\")\n",
        "  x=x+1"
      ],
      "metadata": {
        "colab": {
          "base_uri": "https://localhost:8080/"
        },
        "id": "btc-VbaNH260",
        "outputId": "447b6cfe-8416-47a1-85ac-b2d7448fbacb"
      },
      "execution_count": 1,
      "outputs": [
        {
          "output_type": "stream",
          "name": "stdout",
          "text": [
            "antony\n",
            "antony\n",
            "antony\n",
            "antony\n",
            "antony\n",
            "antony\n",
            "antony\n",
            "antony\n",
            "antony\n",
            "antony\n",
            "antony\n",
            "antony\n",
            "antony\n",
            "antony\n",
            "antony\n",
            "antony\n",
            "antony\n",
            "antony\n",
            "antony\n",
            "antony\n"
          ]
        }
      ]
    },
    {
      "cell_type": "code",
      "source": [
        "x=0\n",
        "result=0\n",
        "while x<10:\n",
        "  result=result+x\n",
        "  x=x+1\n",
        "  print(result)"
      ],
      "metadata": {
        "colab": {
          "base_uri": "https://localhost:8080/"
        },
        "id": "vbpdYFVdJNiT",
        "outputId": "ef1af041-bd0c-4351-9f62-df934ee553a9"
      },
      "execution_count": 2,
      "outputs": [
        {
          "output_type": "stream",
          "name": "stdout",
          "text": [
            "0\n",
            "1\n",
            "3\n",
            "6\n",
            "10\n",
            "15\n",
            "21\n",
            "28\n",
            "36\n",
            "45\n"
          ]
        }
      ]
    },
    {
      "cell_type": "code",
      "source": [
        "x=[10,20,30]\n",
        "print(x)"
      ],
      "metadata": {
        "colab": {
          "base_uri": "https://localhost:8080/"
        },
        "id": "fJvdzdPHK0kt",
        "outputId": "0b4a2c90-2a2a-44a6-c9cd-d009400a18d4"
      },
      "execution_count": 3,
      "outputs": [
        {
          "output_type": "stream",
          "name": "stdout",
          "text": [
            "[10, 20, 30]\n"
          ]
        }
      ]
    },
    {
      "cell_type": "code",
      "source": [
        "x[0]"
      ],
      "metadata": {
        "colab": {
          "base_uri": "https://localhost:8080/"
        },
        "id": "2UOFjb92SKr5",
        "outputId": "c30aa4ce-f961-42d7-bb95-dd7c2bfb9d2f"
      },
      "execution_count": 4,
      "outputs": [
        {
          "output_type": "execute_result",
          "data": {
            "text/plain": [
              "10"
            ]
          },
          "metadata": {},
          "execution_count": 4
        }
      ]
    },
    {
      "cell_type": "code",
      "source": [
        "x[-1]"
      ],
      "metadata": {
        "colab": {
          "base_uri": "https://localhost:8080/"
        },
        "id": "K0_tIHa_TZvv",
        "outputId": "7a8d43b5-f518-4140-d32d-34dbfa8ed6aa"
      },
      "execution_count": 5,
      "outputs": [
        {
          "output_type": "execute_result",
          "data": {
            "text/plain": [
              "30"
            ]
          },
          "metadata": {},
          "execution_count": 5
        }
      ]
    },
    {
      "cell_type": "code",
      "source": [
        ""
      ],
      "metadata": {
        "id": "FLkGFqsXTpJQ"
      },
      "execution_count": 5,
      "outputs": []
    }
  ]
}